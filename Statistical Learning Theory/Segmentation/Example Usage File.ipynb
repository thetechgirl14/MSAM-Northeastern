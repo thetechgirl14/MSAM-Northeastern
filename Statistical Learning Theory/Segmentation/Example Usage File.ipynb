{
 "cells": [
  {
   "cell_type": "markdown",
   "metadata": {},
   "source": [
    "# Examples of Usage:"
   ]
  },
  {
   "cell_type": "code",
   "execution_count": 2,
   "metadata": {},
   "outputs": [],
   "source": [
    "import dataWrangler as dw\n",
    "import models\n",
    "import analysis\n",
    "\n",
    "import ipyvolume as ipv"
   ]
  },
  {
   "cell_type": "markdown",
   "metadata": {},
   "source": [
    "# Predict on a single element"
   ]
  },
  {
   "cell_type": "code",
   "execution_count": null,
   "metadata": {},
   "outputs": [],
   "source": [
    "test_gen_3D = DataGenerator(folder=out_folder,batch_size=1, tt = \"test\", dim=(80,120, 120), shuffle=False)\n",
    "\n",
    "X,y = test_gen_3D.__getitem__(0)\n",
    "y_pred = model.predict(X[0].reshape(80,120,120,1))"
   ]
  },
  {
   "cell_type": "markdown",
   "metadata": {},
   "source": [
    "# Plot the fp, fn and tp's"
   ]
  },
  {
   "cell_type": "code",
   "execution_count": null,
   "metadata": {},
   "outputs": [],
   "source": [
    "y_p = y_pred.reshape(80,120,120)\n",
    "\n",
    "# False Positives\n",
    "m = np.multiply(y_p,1-y[0]);\n",
    "# False Negatives\n",
    "n = np.multiply(1-y_p,y[0]);\n",
    "# True Positives\n",
    "q = np.multiply(y_p,y[0]);\n",
    "\n",
    "plot_segments(y[0],q)"
   ]
  },
  {
   "cell_type": "markdown",
   "metadata": {},
   "source": [
    "# Evaluate the test data"
   ]
  },
  {
   "cell_type": "code",
   "execution_count": null,
   "metadata": {},
   "outputs": [],
   "source": [
    "model_stats = compare_models(test_gen_3D, model)\n",
    "model_stats"
   ]
  }
 ],
 "metadata": {
  "kernelspec": {
   "display_name": "Python 3",
   "language": "python",
   "name": "python3"
  },
  "language_info": {
   "codemirror_mode": {
    "name": "ipython",
    "version": 3
   },
   "file_extension": ".py",
   "mimetype": "text/x-python",
   "name": "python",
   "nbconvert_exporter": "python",
   "pygments_lexer": "ipython3",
   "version": "3.6.10"
  }
 },
 "nbformat": 4,
 "nbformat_minor": 4
}
