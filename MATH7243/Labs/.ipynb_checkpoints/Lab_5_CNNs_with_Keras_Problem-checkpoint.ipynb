{
 "cells": [
  {
   "cell_type": "code",
   "execution_count": 1,
   "metadata": {
    "id": "Jx1eZzYe-UAv"
   },
   "outputs": [],
   "source": [
    "import numpy as np\n",
    "import pandas as pd\n",
    "import matplotlib.pyplot as plt\n",
    "import seaborn as sns\n",
    "\n",
    "plt.rcParams['figure.figsize'] = (10, 8)\n",
    "plt.style.use('ggplot')\n",
    "\n",
    "np.set_printoptions(precision=3)\n",
    "pd.set_option('precision', 3)\n",
    "pd.set_option('display.max_columns', None)\n",
    "sns.set(font_scale=1.2)"
   ]
  },
  {
   "cell_type": "code",
   "execution_count": null,
   "metadata": {
    "id": "OBKYk3KO-UA1"
   },
   "outputs": [],
   "source": [
    "import cv2\n",
    "import tensorflow as tf\n",
    "import tensorflow.keras.backend as K\n",
    "from tensorflow.keras.models import Sequential\n",
    "from tensorflow.keras.layers import Conv2D, Activation, Input, Dropout, Flatten, Dense, MaxPooling2D"
   ]
  },
  {
   "cell_type": "markdown",
   "metadata": {
    "id": "mHAGsIYz-UA2"
   },
   "source": [
    "# Problem 1: CNN classificaiton\n",
    "\n",
    "###### Construct a CNN to classify the images in the MRI dataset. "
   ]
  },
  {
   "cell_type": "code",
   "execution_count": null,
   "metadata": {
    "id": "kgQLPl94_met"
   },
   "outputs": [],
   "source": [
    "mri_dir = 'E:/Math/NEU/MATH7243/Labs/MRI_Images/'\n",
    "mri_labels_path = mri_dir + 'labels.csv'"
   ]
  },
  {
   "cell_type": "code",
   "execution_count": null,
   "metadata": {
    "colab": {
     "base_uri": "https://localhost:8080/",
     "height": 310
    },
    "id": "_JwS9tWU-UA3",
    "outputId": "fb63b72c-547c-4e46-b9a2-c9003b8fa406"
   },
   "outputs": [],
   "source": [
    "mri_labels = pd.read_csv(mri_labels_path, index_col=0)\n",
    "print(mri_labels.shape)\n",
    "print('MRI labels value counts')\n",
    "print(mri_labels['Slice'].value_counts())\n",
    "mri_labels.head()"
   ]
  },
  {
   "cell_type": "code",
   "execution_count": null,
   "metadata": {
    "id": "XozGn9ic-UA4"
   },
   "outputs": [],
   "source": [
    "mri_labels['Slice'] = mri_labels['Slice'].astype(str)"
   ]
  },
  {
   "cell_type": "code",
   "execution_count": null,
   "metadata": {
    "colab": {
     "base_uri": "https://localhost:8080/",
     "height": 252
    },
    "id": "aLEDKK-Q-UA4",
    "outputId": "f30b4988-d965-4637-ff8f-1e7a77a43819"
   },
   "outputs": [],
   "source": [
    "## randomly select elemest from different labels\n",
    "unique_labels = mri_labels['Slice'].unique()\n",
    "fig, ax = plt.subplots(1, len(unique_labels), figsize=(10, 10*len(unique_labels)))\n",
    "for i, label in enumerate(unique_labels):\n",
    "    filename =  mri_labels[mri_labels['Slice'] == label]['Filename'].sample().values[0]\n",
    "    img = cv2.imread(mri_dir + filename)\n",
    "    ax[i].imshow(img)\n",
    "    ax[i].set_title(f'label :{label}')\n",
    "print(f'image shape is: {img.shape}')"
   ]
  },
  {
   "cell_type": "code",
   "execution_count": null,
   "metadata": {
    "colab": {
     "base_uri": "https://localhost:8080/"
    },
    "id": "GchAwM7M-UA6",
    "outputId": "a39717e4-f9c6-4a9a-f1ba-d6b1f364f3da"
   },
   "outputs": [],
   "source": [
    "datagen = tf.keras.preprocessing.image.ImageDataGenerator(validation_split=0.2)\n",
    "train_ds = datagen.flow_from_dataframe(dataframe=mri_labels, directory=mri_dir, x_col='Filename', y_col='Slice', \n",
    "                                       subset='training', batch_size=16, seed=7, shuffle=True, color_mode='rgb',\n",
    "                                       class_mode='categorical', target_size=(176, 176))\n",
    "val_ds = datagen.flow_from_dataframe(dataframe=mri_labels, directory=mri_dir, x_col='Filename', y_col='Slice', \n",
    "                                       subset='validation', batch_size=16, seed=7, shuffle=True, color_mode='rgb',\n",
    "                                       class_mode='categorical', target_size=(176, 176))"
   ]
  },
  {
   "cell_type": "code",
   "execution_count": null,
   "metadata": {
    "colab": {
     "base_uri": "https://localhost:8080/"
    },
    "id": "CpXQFXZV-UA7",
    "outputId": "bd26b418-9ad3-4703-b04b-923efd7e2419"
   },
   "outputs": [],
   "source": [
    "model = Sequential()\n",
    "model.add(Conv2D(32, (3, 3), activation='relu', input_shape=(176, 176, 3)))\n",
    "model.add(Conv2D(40, (3, 3), activation='relu'))\n",
    "model.add(MaxPooling2D(pool_size=(2, 2)))\n",
    "model.add(Conv2D(48, (3, 3), activation='relu'))\n",
    "model.add(MaxPooling2D(pool_size=(2, 2)))\n",
    "model.add(Conv2D(56, (3, 3), activation='relu'))\n",
    "model.add(MaxPooling2D(pool_size=(2, 2)))\n",
    "model.add(Conv2D(64, (3, 3), activation='relu'))\n",
    "model.add(MaxPooling2D(pool_size=(2, 2)))\n",
    "model.add(Flatten())\n",
    "model.add(Dense(256))\n",
    "model.add(Activation('relu'))\n",
    "model.add(Dense(3, activation='softmax'))\n",
    "model.compile(optimizer='adam', loss='categorical_crossentropy', metrics=['accuracy'])\n",
    "model.summary()"
   ]
  },
  {
   "cell_type": "code",
   "execution_count": null,
   "metadata": {
    "colab": {
     "base_uri": "https://localhost:8080/"
    },
    "id": "6wDynOeE-UBB",
    "outputId": "55c5bc47-132a-4839-c298-7a4136b1e753"
   },
   "outputs": [],
   "source": [
    "STEP_SIZE_TRAIN = train_ds.n//train_ds.batch_size\n",
    "STEP_SIZE_VAL = val_ds.n//val_ds.batch_size\n",
    "\n",
    "early_stopping = tf.keras.callbacks.EarlyStopping(min_delta=1e-3, patience=3)\n",
    "checkpoint = tf.keras.callbacks.ModelCheckpoint('./mri_model.h5', verbose=2, save_best_only=True)\n",
    "\n",
    "history = model.fit(train_ds, steps_per_epoch=STEP_SIZE_TRAIN,\n",
    "                              validation_data=val_ds, validation_steps=STEP_SIZE_VAL, epochs=7)"
   ]
  },
  {
   "cell_type": "code",
   "execution_count": null,
   "metadata": {
    "colab": {
     "base_uri": "https://localhost:8080/",
     "height": 522
    },
    "id": "IMidYcOh-UBC",
    "outputId": "b4bcad8b-b03e-4068-8c1c-e296ad91c429"
   },
   "outputs": [],
   "source": [
    "def plot_loss_acc(history):\n",
    "    fig, ax = plt.subplots(1, 2, figsize=(16, 8))\n",
    "    ax[0].plot(history.history['loss'], label='loss')\n",
    "    ax[0].plot(history.history['val_loss'], label='val_loss')\n",
    "    ax[0].legend()\n",
    "    ax[0].set_title('Training and Validation Loss')\n",
    "    ax[1].plot(history.history['accuracy'], label='accuracy')\n",
    "    ax[1].plot(history.history['val_accuracy'], label='val_accuracy')\n",
    "    ax[1].legend()\n",
    "    ax[1].set_title('Training and Validation Accuracy')\n",
    "    print('Plots for Loss and Accuracy of training:')\n",
    "    \n",
    "plot_loss_acc(history)"
   ]
  },
  {
   "cell_type": "markdown",
   "metadata": {
    "id": "B16SQHME-UBC"
   },
   "source": [
    "# Problem 2: Pretrained Networks\n",
    "\n"
   ]
  },
  {
   "cell_type": "markdown",
   "metadata": {
    "id": "8DqXyrrj-UBC"
   },
   "source": [
    "##### Construct a CNN using the Pretrained Network to classify the images in the MRI dataset."
   ]
  },
  {
   "cell_type": "code",
   "execution_count": null,
   "metadata": {
    "colab": {
     "base_uri": "https://localhost:8080/"
    },
    "id": "YzDeqBko-UBD",
    "outputId": "df7b3b48-f651-459b-ab4e-dda4e116ef30"
   },
   "outputs": [],
   "source": [
    "n_classes = 3\n",
    "\n",
    "base_model = tf.keras.applications.vgg16.VGG16(weights=\"imagenet\", include_top=False)\n",
    "avg = tf.keras.layers.GlobalAveragePooling2D()(base_model.output)\n",
    "output = tf.keras.layers.Dense(n_classes, activation=\"softmax\")(avg)\n",
    "model = tf.keras.Model(inputs=base_model.input, outputs=output)\n",
    "\n",
    "model.summary()"
   ]
  },
  {
   "cell_type": "code",
   "execution_count": null,
   "metadata": {
    "id": "mydgbrmK-UBD"
   },
   "outputs": [],
   "source": [
    "for layer in base_model.layers:\n",
    "    layer.trainable = False"
   ]
  },
  {
   "cell_type": "code",
   "execution_count": null,
   "metadata": {
    "id": "aHuiNrRv-UBD"
   },
   "outputs": [],
   "source": [
    "optimizer = tf.keras.optimizers.SGD(learning_rate=0.01, momentum=0.9, decay=0.01)\n",
    "model.compile(loss=\"categorical_crossentropy\", optimizer='adam', metrics=[\"accuracy\"])"
   ]
  },
  {
   "cell_type": "code",
   "execution_count": null,
   "metadata": {
    "colab": {
     "base_uri": "https://localhost:8080/"
    },
    "id": "7bqrsiNs-UBE",
    "outputId": "8157e7bd-484d-4ca0-aecc-178f6e9d8e43"
   },
   "outputs": [],
   "source": [
    "history = model.fit(train_ds, steps_per_epoch=STEP_SIZE_TRAIN,\n",
    "                              validation_data=val_ds, validation_steps=STEP_SIZE_VAL, epochs=5)"
   ]
  },
  {
   "cell_type": "code",
   "execution_count": null,
   "metadata": {
    "colab": {
     "base_uri": "https://localhost:8080/",
     "height": 522
    },
    "id": "3DxjFKfpI-lj",
    "outputId": "82594f8c-d522-4f10-95c9-dc6e95e005d9"
   },
   "outputs": [],
   "source": [
    "plot_loss_acc(history=history)"
   ]
  }
 ],
 "metadata": {
  "accelerator": "GPU",
  "colab": {
   "name": "Lab 5 CNNs with Keras - Anupam.ipynb",
   "provenance": []
  },
  "kernelspec": {
   "display_name": "Python 3",
   "language": "python",
   "name": "python3"
  },
  "language_info": {
   "codemirror_mode": {
    "name": "ipython",
    "version": 3
   },
   "file_extension": ".py",
   "mimetype": "text/x-python",
   "name": "python",
   "nbconvert_exporter": "python",
   "pygments_lexer": "ipython3",
   "version": "3.8.5"
  }
 },
 "nbformat": 4,
 "nbformat_minor": 1
}
