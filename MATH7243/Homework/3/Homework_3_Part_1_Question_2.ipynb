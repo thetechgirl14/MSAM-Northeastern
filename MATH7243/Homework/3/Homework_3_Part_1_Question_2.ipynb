{
 "cells": [
  {
   "cell_type": "code",
   "execution_count": 1,
   "metadata": {},
   "outputs": [],
   "source": [
    "import numpy as np\n",
    "import matplotlib.pyplot as plt\n",
    "from matplotlib import style\n",
    "import pandas as pd\n",
    "style.use('fivethirtyeight')\n",
    "np.random.seed(seed=42)"
   ]
  },
  {
   "cell_type": "code",
   "execution_count": 2,
   "metadata": {},
   "outputs": [],
   "source": [
    "label1 = np.array([[3.81,0.23,3.05,0.68,2.67],[-0.55,3.37,3.53,1.84,2.74]])\n",
    "label2 = np.array([[-2.04,-0.72,-2.46,-3.51,-2.05],[-1.25,-3.35,-1.31,0.13,-2.82]])"
   ]
  },
  {
   "cell_type": "code",
   "execution_count": 3,
   "metadata": {},
   "outputs": [
    {
     "data": {
      "text/plain": [
       "<matplotlib.collections.PathCollection at 0x26fd4d0faf0>"
      ]
     },
     "execution_count": 3,
     "metadata": {},
     "output_type": "execute_result"
    },
    {
     "data": {
      "image/png": "[encoded data removed]",
      "text/plain": [
       "<Figure size 504x504 with 1 Axes>"
      ]
     },
     "metadata": {},
     "output_type": "display_data"
    }
   ],
   "source": [
    "#Plot the data\n",
    "fig = plt.figure(figsize=(7,7))\n",
    "ax0 = fig.add_subplot(111)\n",
    "\n",
    "ax0.scatter(label1[0],label1[1],marker='^',c='yellow',edgecolor='black')\n",
    "ax0.scatter(label2[0],label2[1],marker='o',c='blue',edgecolor='black')"
   ]
  },
  {
   "cell_type": "code",
   "execution_count": 4,
   "metadata": {},
   "outputs": [
    {
     "name": "stdout",
     "output_type": "stream",
     "text": [
      "mu0 =  [[2.088]\n",
      " [2.186]]\n",
      "mu1 =  [[-2.156]\n",
      " [-1.72 ]]\n"
     ]
    }
   ],
   "source": [
    "# Calculating the mean vectors\n",
    "mu0 = np.mean(label1,axis=1).reshape(2,1)\n",
    "print('mu0 = ',mu0)\n",
    "mu1 = np.mean(label2,axis=1).reshape(2,1)\n",
    "print('mu1 = ',mu1)"
   ]
  },
  {
   "cell_type": "code",
   "execution_count": 5,
   "metadata": {},
   "outputs": [],
   "source": [
    "m = len(label1.T) + len(label2.T)"
   ]
  },
  {
   "cell_type": "code",
   "execution_count": 6,
   "metadata": {},
   "outputs": [],
   "source": [
    "label1_mu0 = np.dot((label1-mu0),(label1-mu0).T)\n",
    "label2_mu1 = np.dot((label2-mu1),(label2-mu1).T)"
   ]
  },
  {
   "cell_type": "code",
   "execution_count": 7,
   "metadata": {},
   "outputs": [
    {
     "data": {
      "text/plain": [
       "array([[ 1.36766 , -0.984104],\n",
       "       [-0.984104,  1.879892]])"
      ]
     },
     "execution_count": 7,
     "metadata": {},
     "output_type": "execute_result"
    }
   ],
   "source": [
    "#Calculating Covariance Matrix\n",
    "sigma = (label1_mu0 + label2_mu1)/m\n",
    "sigma"
   ]
  }
 ],
 "metadata": {
  "kernelspec": {
   "display_name": "Python 3",
   "language": "python",
   "name": "python3"
  },
  "language_info": {
   "codemirror_mode": {
    "name": "ipython",
    "version": 3
   },
   "file_extension": ".py",
   "mimetype": "text/x-python",
   "name": "python",
   "nbconvert_exporter": "python",
   "pygments_lexer": "ipython3",
   "version": "3.8.5"
  }
 },
 "nbformat": 4,
 "nbformat_minor": 4
}
